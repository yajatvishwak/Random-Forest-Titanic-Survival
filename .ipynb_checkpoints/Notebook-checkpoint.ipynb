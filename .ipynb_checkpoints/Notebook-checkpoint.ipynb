{
 "cells": [
  {
   "cell_type": "markdown",
   "metadata": {},
   "source": [
    "# Project: Implementation of Random Forests in a Classification problem\n",
    "\n",
    "Random Forest is a supervised learning machine learning algorithm. It consists of multiple Decision Trees.\n",
    "Random forests algorithm creates decision trees on randomly selected data samples, gets prediction from each tree and selects the best solution by means of voting. While this process takes place, the feature importances of each classification surface.\n",
    "\n",
    "## The Algorithm\n",
    "There are 4 steps in this algorithm:\n",
    "1. Random selection of data from the training set in form of samples\n",
    "2. Construct a Decision tree for each selected sample\n",
    "3. Score out each Decision tree \n",
    "4. Select the prediction result with the Highest as the final prediction\n",
    "\n",
    "## Advantages of Random Forests \n",
    "1. highly accurate and robust method because of the quantity of decision trees that make the entire classifier\n",
    "2. Does not suffer overfitting because all prediction values are averaged\n",
    "3. Classification and regression problems both can be handled by the Random Forest\n",
    "4. Random forests can also handle missing values\n",
    "5. Gives an idea of feature importance\n",
    "\n",
    "## Data Description\n",
    "The data which we will be dealing with in this example is the famous Titanic Survival data.\n",
    "The Titanic was the world's biggest ship to ever sail. It carried over  3,300 passengers.\n",
    "Unfortunately, it met with an accident and due to poor disaster planning, people died in the shipwreck\n",
    "The goal is to find if a passenger of the Titanic survived the shipwreck, given some data about these passengers(eg their class and how much their fare).\n",
    "\n",
    "We will be using scikit learn to train our model in python and matplotlib for visualization.\n",
    "\n",
    "\n",
    "### Features of the data\n",
    "1. pclass = A proxy for socio-economic status (SES)\n",
    "    1st = Upper\n",
    "    2nd = Middle\n",
    "    3rd = Lower\n",
    "\n",
    "2. age = Age is fractional if less than 1. If the age is estimated, is it in the form of xx.5\n",
    "3. sibsp = The dataset defines family relations\n",
    "4. parch: The dataset defines family relations\n",
    "5. Survived  = 1 if the person survived, 0 if the person doesnot survive\n",
    "6. Embarked = where the person boarded the ship \n",
    "7. sex = gender of the person\n",
    "8. Fare = price of ticket paid by the passenger\n"
   ]
  },
  {
   "cell_type": "markdown",
   "metadata": {},
   "source": [
    "# Code"
   ]
  },
  {
   "cell_type": "code",
   "execution_count": 1,
   "metadata": {},
   "outputs": [],
   "source": [
    "# importing libraries\n",
    "from sklearn import metrics\n",
    "from sklearn.ensemble import RandomForestClassifier\n",
    "import pandas as pd\n",
    "import numpy as np\n",
    "from sklearn.model_selection import train_test_split\n",
    "from sklearn.tree import DecisionTreeClassifier\n",
    "from sklearn.impute import SimpleImputer\n",
    "from sklearn.preprocessing import LabelEncoder\n",
    "from matplotlib import pyplot as plt"
   ]
  },
  {
   "cell_type": "code",
   "execution_count": 2,
   "metadata": {},
   "outputs": [
    {
     "name": "stdout",
     "output_type": "stream",
     "text": [
      "Index(['PassengerId', 'Survived', 'Pclass', 'Name', 'Sex', 'Age', 'SibSp',\n",
      "       'Parch', 'Ticket', 'Fare', 'Cabin', 'Embarked'],\n",
      "      dtype='object')\n"
     ]
    }
   ],
   "source": [
    "#loading the data\n",
    "df = pd.read_csv('data.csv')\n",
    "print(df.columns)"
   ]
  },
  {
   "cell_type": "code",
   "execution_count": 3,
   "metadata": {},
   "outputs": [],
   "source": [
    "# Splitting our X and y, features  and answers\n",
    "X = df[['PassengerId', 'Pclass', 'Name', 'Sex', 'Age',\n",
    "        'SibSp', 'Parch', 'Ticket', 'Fare', 'Cabin', 'Embarked']]\n",
    "y = df['Survived']"
   ]
  },
  {
   "cell_type": "markdown",
   "metadata": {},
   "source": [
    "As we can see, there are a few columns that might not play a part in deciding whether a passenger survived\n",
    "eg. PassengerId is just an index number and does not affect if the passenger survived or not. Likewise the name of the person also does not play a role in the passenger's survival.\n"
   ]
  },
  {
   "cell_type": "code",
   "execution_count": 4,
   "metadata": {},
   "outputs": [],
   "source": [
    "# Dropping or removing all the columns that have no relations with the answer\n",
    "X = X.drop(['PassengerId', 'Embarked', 'Name', 'Ticket', 'Cabin'], axis=1)"
   ]
  },
  {
   "cell_type": "code",
   "execution_count": 6,
   "metadata": {},
   "outputs": [],
   "source": [
    "# Encoding the gender variable because it has string values, while the classifier model takes only numerical format\n",
    "# All males will be 1 and all females will be 0 or vice versa\n",
    "le = LabelEncoder()\n",
    "X['Sex'] = le.fit_transform(X['Sex'])"
   ]
  },
  {
   "cell_type": "code",
   "execution_count": 7,
   "metadata": {},
   "outputs": [
    {
     "name": "stdout",
     "output_type": "stream",
     "text": [
      "Feature: Pclass, Score: 0.10923\n",
      "Feature: Sex, Score: 0.30525\n",
      "Feature: Age, Score: 0.23892\n",
      "Feature: SibSp, Score: 0.05108\n",
      "Feature: Parch, Score: 0.01228\n",
      "Feature: Fare, Score: 0.28324\n"
     ]
    },
    {
     "data": {
      "image/png": "[encoded data removed]",
      "text/plain": [
       "<Figure size 432x288 with 1 Axes>"
      ]
     },
     "metadata": {
      "needs_background": "light"
     },
     "output_type": "display_data"
    }
   ],
   "source": [
    "# Simple imputation to fill in all missing values, we will be filling it with mean values in the column\n",
    "X = X.fillna(X.mean())\n",
    "\n",
    "# Feature Engineering  - Understanding which features play a role in passenger survival the most\n",
    "model = DecisionTreeClassifier()\n",
    "model.fit(X, y)\n",
    "importance = model.feature_importances_\n",
    "for i, v in enumerate(importance):\n",
    "    print('Feature %d : %s, Score: %.5f' % (i, X.columns[i], v))\n",
    "featurevsimp = plt.bar([x for x in range(len(importance))], importance)\n",
    "featurevsimp = plt.xlabel(\"Features\")\n",
    "featurevsimp = plt.ylabel(\"Importance\")\n",
    "plt.show()"
   ]
  }
 ],
 "metadata": {
  "kernelspec": {
   "display_name": "Python 3",
   "language": "python",
   "name": "python3"
  },
  "language_info": {
   "codemirror_mode": {
    "name": "ipython",
    "version": 3
   },
   "file_extension": ".py",
   "mimetype": "text/x-python",
   "name": "python",
   "nbconvert_exporter": "python",
   "pygments_lexer": "ipython3",
   "version": "3.8.5"
  }
 },
 "nbformat": 4,
 "nbformat_minor": 4
}
