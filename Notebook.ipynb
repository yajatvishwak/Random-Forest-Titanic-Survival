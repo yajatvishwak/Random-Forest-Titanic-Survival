{
 "cells": [
  {
   "cell_type": "markdown",
   "metadata": {},
   "source": [
    "# Project: Implementation of Random Forests in a Classification problem\n",
    "\n",
    "Random Forest is a supervised learning machine learning algorithm. It consists of multiple Decision Trees.\n",
    "Random forests algorithm creates decision trees on randomly selected data samples, gets prediction from each tree and selects the best solution by means of voting. While this process takes place, the feature importances of each classification surface.\n",
    "\n",
    "## The Algorithm\n",
    "There are 4 steps in this algorithm:\n",
    "1. Random selection of data from the training set in form of samples\n",
    "2. Construct a Decision tree for each selected sample\n",
    "3. Score out each Decision tree \n",
    "4. Select the prediction result with the Highest as the final prediction\n",
    "\n",
    "## Advantages of Random Forests \n",
    "1. highly accurate and robust method because of the quantity of decision trees that make the entire classifier\n",
    "2. Does not suffer overfitting because all prediction values are averaged\n",
    "3. Classification and regression problems both can be handled by the Random Forest\n",
    "4. Random forests can also handle missing values\n",
    "5. Gives an idea of feature importance\n",
    "\n",
    "## Data Description\n",
    "The data which we will be dealing with in this example is the famous Titanic Survival data.\n",
    "The Titanic was the world's biggest ship to ever sail. It carried over  3,300 passengers.\n",
    "Unfortunately, it met with an accident and due to poor disaster planning, people died in the shipwreck\n",
    "The goal is to find if a passenger of the Titanic survived the shipwreck, given some data about these passengers(eg their class and how much their fare).\n",
    "\n",
    "We will be using scikit learn to train our model in python and matplotlib for visualization.\n",
    "\n",
    "\n",
    "### Features of the data\n",
    "1. pclass = A proxy for socio-economic status (SES)\n",
    "    1st = Upper\n",
    "    2nd = Middle\n",
    "    3rd = Lower\n",
    "\n",
    "2. age = Age is fractional if less than 1. If the age is estimated, is it in the form of xx.5\n",
    "3. sibsp = The dataset defines family relations\n",
    "4. parch: The dataset defines family relations\n",
    "5. Survived  = 1 if the person survived, 0 if the person doesnot survive\n",
    "6. Embarked = where the person boarded the ship \n",
    "7. sex = gender of the person\n",
    "8. Fare = price of ticket paid by the passenger\n"
   ]
  },
  {
   "cell_type": "markdown",
   "metadata": {},
   "source": [
    "# Code"
   ]
  },
  {
   "cell_type": "code",
   "execution_count": 2,
   "metadata": {},
   "outputs": [],
   "source": [
    "# importing libraries\n",
    "from sklearn import metrics\n",
    "from sklearn.ensemble import RandomForestClassifier\n",
    "import pandas as pd\n",
    "import numpy as np\n",
    "from sklearn.model_selection import train_test_split\n",
    "from sklearn.tree import DecisionTreeClassifier\n",
    "from sklearn.impute import SimpleImputer\n",
    "from sklearn.preprocessing import LabelEncoder\n",
    "from matplotlib import pyplot as plt"
   ]
  },
  {
   "cell_type": "code",
   "execution_count": 3,
   "metadata": {},
   "outputs": [
    {
     "name": "stdout",
     "output_type": "stream",
     "text": [
      "Index(['PassengerId', 'Survived', 'Pclass', 'Name', 'Sex', 'Age', 'SibSp',\n",
      "       'Parch', 'Ticket', 'Fare', 'Cabin', 'Embarked'],\n",
      "      dtype='object')\n"
     ]
    }
   ],
   "source": [
    "#loading the data\n",
    "df = pd.read_csv('data.csv')\n",
    "print(df.columns)"
   ]
  },
  {
   "cell_type": "code",
   "execution_count": 4,
   "metadata": {},
   "outputs": [],
   "source": [
    "# Splitting our X and y, features  and answers\n",
    "X = df[['PassengerId', 'Pclass', 'Name', 'Sex', 'Age',\n",
    "        'SibSp', 'Parch', 'Ticket', 'Fare', 'Cabin', 'Embarked']]\n",
    "y = df['Survived']"
   ]
  },
  {
   "cell_type": "markdown",
   "metadata": {},
   "source": [
    "As we can see, there are a few columns that might not play a part in deciding whether a passenger survived\n",
    "eg. PassengerId is just an index number and does not affect if the passenger survived or not. Likewise the name of the person also does not play a role in the passenger's survival.\n"
   ]
  },
  {
   "cell_type": "code",
   "execution_count": 5,
   "metadata": {},
   "outputs": [],
   "source": [
    "# Dropping or removing all the columns that have no relations with the answer\n",
    "X = X.drop(['PassengerId', 'Embarked', 'Name', 'Ticket', 'Cabin'], axis=1)"
   ]
  },
  {
   "cell_type": "code",
   "execution_count": 6,
   "metadata": {},
   "outputs": [],
   "source": [
    "# Encoding the gender variable because it has string values, while the classifier model takes only numerical format\n",
    "# All males will be 1 and all females will be 0 or vice versa\n",
    "le = LabelEncoder()\n",
    "X['Sex'] = le.fit_transform(X['Sex'])"
   ]
  },
  {
   "cell_type": "code",
   "execution_count": 7,
   "metadata": {},
   "outputs": [
    {
     "name": "stdout",
     "output_type": "stream",
     "text": [
      "Feature 0 : Pclass, Score: 0.11342\n",
      "Feature 1 : Sex, Score: 0.30525\n",
      "Feature 2 : Age, Score: 0.23370\n",
      "Feature 3 : SibSp, Score: 0.04853\n",
      "Feature 4 : Parch, Score: 0.01377\n",
      "Feature 5 : Fare, Score: 0.28533\n"
     ]
    },
    {
     "data": {
      "image/png": "[encoded data removed]",
      "text/plain": [
       "<Figure size 432x288 with 1 Axes>"
      ]
     },
     "metadata": {
      "needs_background": "light"
     },
     "output_type": "display_data"
    }
   ],
   "source": [
    "# Simple imputation to fill in all missing values, we will be filling it with mean values in the column\n",
    "X = X.fillna(X.mean())\n",
    "\n",
    "# Feature Engineering  - Understanding which features play a role in passenger survival the most\n",
    "model = DecisionTreeClassifier()\n",
    "model.fit(X, y)\n",
    "importance = model.feature_importances_\n",
    "for i, v in enumerate(importance):\n",
    "    print('Feature %d : %s, Score: %.5f' % (i, X.columns[i], v))\n",
    "featurevsimp = plt.bar([x for x in range(len(importance))], importance)\n",
    "featurevsimp = plt.xlabel(\"Features\")\n",
    "featurevsimp = plt.ylabel(\"Importance\")\n",
    "plt.show()"
   ]
  },
  {
   "cell_type": "markdown",
   "metadata": {},
   "source": [
    "We come to know that the most important features that decide the output, we can drop the low score columns. But for the sake of simplicity, we can consider those columns"
   ]
  },
  {
   "cell_type": "code",
   "execution_count": 8,
   "metadata": {},
   "outputs": [],
   "source": [
    "# Splitting the data into training and testing data (70% training and 30% testing)\n",
    "X_train, X_test, y_train, y_test = train_test_split(X, y,\n",
    "                                                    test_size=0.30, random_state=42)"
   ]
  },
  {
   "cell_type": "code",
   "execution_count": 10,
   "metadata": {},
   "outputs": [],
   "source": [
    "# Model defination\n",
    "\n",
    "# We need to choose how many trees are ideal in solving the problem. Too many trees in the Random forest classifier\n",
    "\n",
    "estimators = [10, 20, 40, 50, 100, 200, 300, 400]\n",
    "scores = []\n",
    "temp = {}\n",
    "\n",
    "for estimator in estimators:\n",
    "    clf = RandomForestClassifier(n_estimators=estimator) # preparing the model classifier\n",
    "    clf.fit(X_train, y_train)                            # Fitting the model to the training data\n",
    "    y_pred = clf.predict(X_test)                         # prediction on the testing data\n",
    "    score = metrics.accuracy_score(y_test, y_pred)       # scoring how well the model performed \n",
    "    scores.append(score)\n",
    "    temp[score] = estimator"
   ]
  },
  {
   "cell_type": "markdown",
   "metadata": {},
   "source": [
    "We trained the model on a set of estimators, which are the number of trees the Random Forest consists of. The Lesser the number of trees, lesser features are picked, the more the number of trees, more intensively the features are picked."
   ]
  },
  {
   "cell_type": "code",
   "execution_count": 13,
   "metadata": {},
   "outputs": [
    {
     "name": "stdout",
     "output_type": "stream",
     "text": [
      "[0, 0, 0, 0, 1, 0, 1, 1, 0, 1, 0, 0, 0, 1, 0, 1, 1, 0, 0, 0, 0, 1, 0, 0, 0, 0, 0, 0, 0, 0, 0, 1, 1, 0, 0, 0, 1, 0, 0, 0, 1, 1, 1, 0, 0, 0, 0, 0, 1, 1, 0, 1, 1, 1, 1, 0, 0, 0, 1, 0, 0, 0, 1, 0, 1, 1, 1, 1, 0, 0, 0, 1, 1, 0, 1, 0, 0, 1, 1, 0, 1, 0, 0, 0, 0, 0, 0, 0, 1, 1, 1, 1, 0, 1, 0, 1, 0, 0, 1, 1, 0, 0, 0, 0, 1, 0, 1, 1, 1, 1, 0, 0, 1, 0, 1, 0, 1, 1, 0, 0, 0, 1, 0, 0, 0, 1, 1, 0, 0, 1, 0, 1, 0, 1, 0, 0, 1, 0, 0, 0, 0, 1, 0, 0, 0, 1, 0, 1, 0, 0, 0, 0, 0, 1, 1, 1, 0, 1, 0, 0, 0, 0, 1, 1, 0, 0, 0, 1, 0, 0, 0, 0, 0, 1, 1, 1, 0, 1, 1, 1, 0, 0, 1, 1, 1, 0, 0, 0, 1, 0, 0, 1, 0, 0, 0, 0, 1, 1, 0, 0, 0, 1, 1, 0, 1, 1, 0, 0, 0, 0, 0, 0, 0, 0, 0, 0, 0, 1, 1, 0, 0, 0, 0, 0, 0, 1, 0, 0, 0, 1, 1, 0, 0, 1, 1, 0, 1, 0, 1, 0, 0, 0, 1, 0, 1, 1, 0, 0, 0, 0, 0, 1, 0, 1, 0, 1, 0, 1, 1, 0, 1, 1, 1, 0, 1, 1, 0, 1, 1, 0, 0, 0, 1, 1, 0, 0, 0, 0, 1, 1, 0, 0, 0, 0, 0, 1, 0, 0, 1, 1, 0, 0, 0, 0, 1, 0, 1, 1, 0, 0, 1, 1, 1, 0, 0, 1, 0, 1, 0, 0, 0, 0, 0, 1, 0, 0, 1, 0, 0, 0, 1, 1, 0, 1, 1, 1, 0, 1, 1, 0, 1, 0, 0, 0, 0, 0, 1, 1, 0, 1, 0, 0, 0, 0, 1, 0, 0, 1, 1, 0, 0, 0, 0, 0, 0, 0, 1, 1, 0, 0, 0, 0, 0, 0, 1, 0, 0, 0, 0, 0, 0, 0, 0, 0, 0, 0, 1, 1, 1, 0, 0, 0, 0, 0, 0, 1, 1, 0, 1, 0, 0, 1, 1]\n",
      "[0, 0, 0, 0, 1, 0, 0, 1, 0, 1, 0, 0, 0, 1, 0, 1, 0, 0, 0, 0, 0, 0, 0, 1, 0, 1, 1, 0, 0, 1, 0, 1, 1, 0, 1, 0, 1, 0, 0, 1, 0, 1, 1, 0, 0, 0, 1, 0, 1, 1, 1, 1, 0, 1, 1, 0, 0, 0, 1, 0, 1, 0, 1, 0, 1, 1, 1, 1, 1, 0, 0, 0, 0, 0, 1, 1, 0, 0, 1, 0, 1, 1, 0, 0, 0, 0, 1, 0, 1, 1, 1, 0, 0, 1, 1, 1, 0, 0, 1, 1, 0, 0, 0, 1, 0, 0, 1, 0, 1, 1, 0, 1, 0, 0, 1, 0, 0, 0, 0, 0, 0, 1, 0, 0, 0, 1, 1, 0, 0, 1, 0, 1, 0, 1, 0, 1, 1, 1, 0, 0, 1, 1, 0, 1, 0, 1, 1, 1, 0, 0, 0, 0, 0, 1, 1, 1, 0, 1, 1, 0, 0, 0, 0, 1, 0, 0, 1, 0, 0, 0, 0, 0, 0, 1, 1, 1, 1, 1, 1, 0, 0, 0, 0, 1, 1, 1, 1, 0, 0, 0, 0, 0, 0, 0, 0, 0, 1, 0, 0, 0, 0, 0, 1, 0, 0, 0, 0, 0, 0, 0, 0, 0, 0, 0, 0, 0, 1, 1, 0, 0, 0, 1, 0, 0, 1, 1, 0, 1, 0, 0, 1, 0, 0, 1, 1, 0, 1, 0, 1, 0, 0, 0, 0, 0, 0, 1, 0, 1, 1, 1, 0, 1, 0, 0, 0, 0, 1, 1, 0, 1, 0, 0, 0, 1, 1, 1, 0, 1, 1, 0, 0, 0, 1, 0, 0, 0, 0, 1, 1, 1, 0, 0, 0, 0, 0, 0, 0, 0, 1, 1, 0, 0, 0, 0, 1, 1, 1, 1, 0, 0, 1, 1, 1, 0, 0, 1, 0, 1, 0, 0, 0, 0, 0, 0, 0, 0, 1, 0, 0, 0, 0, 1, 0, 1, 1, 1, 0, 1, 1, 0, 1, 0, 0, 0, 0, 0, 1, 0, 0, 1, 0, 0, 0, 0, 0, 0, 0, 0, 1, 0, 0, 0, 0, 0, 1, 1, 1, 1, 0, 0, 0, 0, 0, 0, 1, 0, 0, 0, 0, 1, 0, 0, 0, 0, 0, 0, 1, 1, 0, 0, 0, 0, 0, 1, 0, 1, 1, 0, 1, 0, 0, 1, 1]\n",
      "Accuracy :  80.40712468193384 %\n",
      "Total Test Cases :  393\n",
      "Correct Predictions :  316.0\n",
      "Wrong Predictions :  77.0\n"
     ]
    }
   ],
   "source": [
    "# printing the results and the final take on the model\n",
    "bestEstimator = temp[max(scores)]\n",
    "clf = RandomForestClassifier(n_estimators=bestEstimator)\n",
    "clf.fit(X_train, y_train)\n",
    "y_pred = clf.predict(X_test)\n",
    "print(y_pred.tolist())\n",
    "print(y_test.values.tolist())\n",
    "print(\"Accuracy : \", max(scores) * 100, \"%\")\n",
    "print(\"Total Test Cases : \", len(y_pred))\n",
    "print(\"Correct Predictions : \",  (max(scores) * len(y_pred)))\n",
    "print(\"Wrong Predictions : \",  len(y_pred) - (max(scores) * len(y_pred)))"
   ]
  },
  {
   "cell_type": "markdown",
   "metadata": {},
   "source": [
    "## Conclusion\n",
    "We have successfully built a model to classify the titanic dataset. The model can classify people who survived and people who died with an accuracy of 80%.\n",
    "\n",
    "Random forests present estimates for variable importance, i.e., neural nets. They also offer a superior method for working with missing data. Missing values are substituted by the variable appearing the most in a particular node. Among all the available classification methods, random forests provide the highest accuracy.\n",
    "\n",
    "The random forest technique can also handle big data with numerous variables running into thousands. It can automatically balance data sets when a class is more infrequent than other classes in the data. The method also handles variables fast, making it suitable for complicated tasks."
   ]
  }
 ],
 "metadata": {
  "kernelspec": {
   "display_name": "Python 3",
   "language": "python",
   "name": "python3"
  },
  "language_info": {
   "codemirror_mode": {
    "name": "ipython",
    "version": 3
   },
   "file_extension": ".py",
   "mimetype": "text/x-python",
   "name": "python",
   "nbconvert_exporter": "python",
   "pygments_lexer": "ipython3",
   "version": "3.8.5"
  }
 },
 "nbformat": 4,
 "nbformat_minor": 4
}
